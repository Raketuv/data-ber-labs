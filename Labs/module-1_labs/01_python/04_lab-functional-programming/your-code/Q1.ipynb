{
 "cells": [
  {
   "cell_type": "markdown",
   "metadata": {},
   "source": [
    "In the cell below, create a Python function that wraps your previous solution for the Bag of Words lab.\n",
    "\n",
    "Requirements:\n",
    "\n",
    "1. Your function should accept the following parameters:\n",
    "    * `docs` [REQUIRED] - array of document paths.\n",
    "    * `stop_words` [OPTIONAL] - array of stop words. The default value is an empty array.\n",
    "\n",
    "1. Your function should return a Python object that contains the following:\n",
    "    * `bag_of_words` - array of strings of normalized unique words in the corpus.\n",
    "    * `term_freq` - array of the term-frequency vectors."
   ]
  },
  {
   "cell_type": "code",
   "execution_count": 25,
   "metadata": {},
   "outputs": [
    {
     "name": "stdout",
     "output_type": "stream",
     "text": [
      "['main.ipynb', 'challenge-2.ipynb', 'main-solutions.ipynb', '.ipynb_checkpoints', 'shared-language-patterns.pdf', 'challenge-1.ipynb', 'doc1.txt', 'doc3.txt', 'doc2.txt']\n"
     ]
    }
   ],
   "source": [
    "# Import required libraries\n",
    "import os\n",
    "import re\n",
    "\n",
    "docs = ['doc1.txt', 'doc2.txt', 'doc3.txt']\n",
    "\n",
    "stop_words_list = ['all', 'six', 'less', 'being', 'indeed', 'over', 'move', 'anyway', 'fifty', 'four', 'not', 'own', 'through', 'yourselves', 'go', 'where', 'mill', 'only', 'find', 'before', 'one', 'whose', 'system', 'how', 'somewhere', 'with', 'thick', 'show', 'had', 'enough', 'should', 'to', 'must', 'whom', 'seeming', 'under', 'ours', 'has', 'might', 'thereafter', 'latterly', 'do', 'them', 'his', 'around', 'than', 'get', 'very', 'de', 'none', 'cannot', 'every', 'whether', 'they', 'front', 'during', 'thus', 'now', 'him', 'nor', 'name', 'several', 'hereafter', 'always', 'who', 'cry', 'whither', 'this', 'someone', 'either', 'each', 'become', 'thereupon', 'sometime', 'side', 'two', 'therein', 'twelve', 'because', 'often', 'ten', 'our', 'eg', 'some', 'back', 'up', 'namely', 'towards', 'are', 'further', 'beyond', 'ourselves', 'yet', 'out', 'even', 'will', 'what', 'still', 'for', 'bottom', 'mine', 'since', 'please', 'forty', 'per', 'its', 'everything', 'behind', 'un', 'above', 'between', 'it', 'neither', 'seemed', 'ever', 'across', 'she', 'somehow', 'be', 'we', 'full', 'never', 'sixty', 'however', 'here', 'otherwise', 'were', 'whereupon', 'nowhere', 'although', 'found', 'alone', 're', 'along', 'fifteen', 'by', 'both', 'about', 'last', 'would', 'anything', 'via', 'many', 'could', 'thence', 'put', 'against', 'keep', 'etc', 'amount', 'became', 'ltd', 'hence', 'onto', 'or', 'con', 'among', 'already', 'co', 'afterwards', 'formerly', 'within', 'seems', 'into', 'others', 'while', 'whatever', 'except', 'down', 'hers', 'everyone', 'done', 'least', 'another', 'whoever', 'moreover', 'couldnt', 'throughout', 'anyhow', 'yourself', 'three', 'from', 'her', 'few', 'together', 'top', 'there', 'due', 'been', 'next', 'anyone', 'eleven', 'much', 'call', 'therefore', 'interest', 'then', 'thru', 'themselves', 'hundred', 'was', 'sincere', 'empty', 'more', 'himself', 'elsewhere', 'mostly', 'on', 'fire', 'am', 'becoming', 'hereby', 'amongst', 'else', 'part', 'everywhere', 'too', 'herself', 'former', 'those', 'he', 'me', 'myself', 'made', 'twenty', 'these', 'bill', 'cant', 'us', 'until', 'besides', 'nevertheless', 'below', 'anywhere', 'nine', 'can', 'of', 'your', 'toward', 'my', 'something', 'and', 'whereafter', 'whenever', 'give', 'almost', 'wherever', 'is', 'describe', 'beforehand', 'herein', 'an', 'as', 'itself', 'at', 'have', 'in', 'seem', 'whence', 'ie', 'any', 'fill', 'again', 'hasnt', 'inc', 'thereby', 'thin', 'no', 'perhaps', 'latter', 'meanwhile', 'when', 'detail', 'same', 'wherein', 'beside', 'also', 'that', 'other', 'take', 'which', 'becomes', 'you', 'if', 'nobody', 'see', 'though', 'may', 'after', 'upon', 'most', 'hereupon', 'eight', 'but', 'serious', 'nothing', 'such', 'why', 'a', 'off', 'whereby', 'third', 'i', 'whole', 'noone', 'sometimes', 'well', 'amoungst', 'yours', 'their', 'rather', 'without', 'so', 'five', 'the', 'first', 'whereas', 'once']\n",
    "\n",
    "print(os.listdir(\"../../03_lab-string-operations/your-code/\"))\n",
    "\n",
    "# Define function\n",
    "def get_bow_from_docs(docs,stop_words):\n",
    "    \n",
    "    # In the function, first define the variables you will use such as `corpus`, `bag_of_words`, and `term_freq`.\n",
    "    \n",
    "    \n",
    "    \n",
    "    \"\"\"\n",
    "    Loop `docs` and read the content of each doc into a string in `corpus`.\n",
    "    Remember to convert the doc content to lowercases and remove punctuation.\n",
    "    \"\"\"\n",
    "    corpus = []\n",
    "\n",
    "    for i in docs:\n",
    "        f = open(\"../../03_lab-string-operations/your-code/\"+i, 'r+')\n",
    "        corpus.append(f.read())\n",
    "        f.close()\n",
    "    \n",
    "    n = []\n",
    "    for i in corpus:\n",
    "        i = i.lower().strip(\".\")\n",
    "        n.append(i)\n",
    "    corpus = n\n",
    "\n",
    "    \n",
    "    \"\"\"\n",
    "    Loop `corpus`. Append the terms in each doc into the `bag_of_words` array. The terms in `bag_of_words` \n",
    "    should be unique which means before adding each term you need to check if it's already added to the array.\n",
    "    In addition, check if each term is in the `stop_words` array. Only append the term to `bag_of_words`\n",
    "    if it is not a stop word.\n",
    "    \"\"\"\n",
    "    bag_of_words= []\n",
    "    global stop_words_list\n",
    "    stop_words = stop_words_list\n",
    "    \n",
    "    for i in corpus:\n",
    "        words = i.split()\n",
    "        for j in words:\n",
    "            if j in stop_words:\n",
    "                0\n",
    "            elif j not in bag_of_words:\n",
    "                bag_of_words.append(j)\n",
    "            \n",
    "    \n",
    "    \n",
    "    \"\"\"\n",
    "    Loop `corpus` again. For each doc string, count the number of occurrences of each term in `bag_of_words`. \n",
    "    Create an array for each doc's term frequency and append it to `term_freq`.\n",
    "    \"\"\"\n",
    "\n",
    "    term_freq = []\n",
    "\n",
    "    for i in corpus:\n",
    "        sub = []\n",
    "        for j in bag_of_words:\n",
    "            my_regex = r\"\\b(?=\\w)\" + re.escape(j) + r\"\\b(?!\\w)\"\n",
    "            if re.search(my_regex, i, re.IGNORECASE):\n",
    "                sub.append(1)\n",
    "            else:\n",
    "                sub.append(0)\n",
    "        term_freq.append(sub)\n",
    "\n",
    "    \n",
    "    \n",
    "    # Now return your output as an object\n",
    "    return {\n",
    "        \"bag_of_words\": bag_of_words,\n",
    "        \"term_freq\": term_freq\n",
    "    }\n",
    "    "
   ]
  },
  {
   "cell_type": "code",
   "execution_count": 27,
   "metadata": {},
   "outputs": [
    {
     "data": {
      "text/plain": [
       "{'bag_of_words': ['ironhack', 'cool', 'love', 'student'],\n",
       " 'term_freq': [[1, 1, 0, 0], [1, 0, 1, 0], [1, 0, 0, 1]]}"
      ]
     },
     "execution_count": 27,
     "metadata": {},
     "output_type": "execute_result"
    }
   ],
   "source": [
    "get_bow_from_docs(docs,stop_words_list)"
   ]
  },
  {
   "cell_type": "markdown",
   "metadata": {},
   "source": [
    "Test your function without stop words. You should see the output like below:\n",
    "\n",
    "```{'bag_of_words': ['ironhack', 'is', 'cool', 'i', 'love', 'am', 'a', 'student', 'at'], 'term_freq': [[1, 1, 1, 0, 0, 0, 0, 0, 0], [1, 0, 0, 1, 1, 0, 0, 0, 0], [1, 0, 0, 1, 0, 1, 1, 1, 1]]}```"
   ]
  },
  {
   "cell_type": "code",
   "execution_count": 28,
   "metadata": {},
   "outputs": [
    {
     "name": "stdout",
     "output_type": "stream",
     "text": [
      "{'bag_of_words': ['ironhack', 'cool', 'love', 'student'], 'term_freq': [[1, 1, 0, 0], [1, 0, 1, 0], [1, 0, 0, 1]]}\n"
     ]
    }
   ],
   "source": [
    "# Define doc paths array\n",
    "docs = ['doc1.txt', 'doc2.txt', 'doc3.txt']\n",
    "\n",
    "# Obtain BoW from your function\n",
    "bow = get_bow_from_docs(docs,stop_words_list)\n",
    "\n",
    "# Print BoW\n",
    "print(bow)"
   ]
  },
  {
   "cell_type": "markdown",
   "metadata": {},
   "source": [
    "If your attempt above is successful, nice work done!\n",
    "\n",
    "Now test your function again with the stop words. In the previous lab we defined the stop words in a large array. In this lab, we'll import the stop words from Scikit-Learn."
   ]
  },
  {
   "cell_type": "code",
   "execution_count": 29,
   "metadata": {},
   "outputs": [
    {
     "name": "stdout",
     "output_type": "stream",
     "text": [
      "frozenset({'though', 'only', 'thick', 'hereafter', 'across', 'almost', 'most', 'hereby', 'cannot', 'another', 'these', 'front', 'former', 'others', 'twenty', 'during', 'formerly', 'give', 'inc', 're', 'eg', 'several', 'latter', 'five', 'might', 'keep', 'further', 'such', 'however', 'side', 'since', 'for', 'whereas', 'cry', 'were', 'below', 'everything', 'that', 'serious', 'through', 'up', 'under', 'after', 'are', 'amongst', 'our', 'how', 'them', 'around', 'moreover', 'with', 'must', 'before', 'nowhere', 'onto', 'take', 'down', 'their', 'six', 'had', 'when', 'go', 'please', 'either', 'this', 'forty', 'same', 'everyone', 'latterly', 'noone', 'be', 'together', 'beside', 'many', 'both', 'show', 'may', 'namely', 'off', 'somewhere', 'due', 'among', 'between', 'nevertheless', 'thereafter', 'those', 'detail', 'per', 'then', 'being', 'fifteen', 'himself', 'until', 'your', 'hasnt', 'except', 'whereupon', 'very', 'made', 'less', 'seems', 'enough', 'if', 'is', 'often', 'would', 'toward', 'me', 'yourself', 'also', 'than', 'besides', 'one', 'done', 'seemed', 'was', 'always', 'own', 'out', 'empty', 'us', 'but', 'hers', 'its', 'thereupon', 'sometime', 'whole', 'top', 'within', 'who', 'whence', 'other', 'amount', 'about', 'at', 'still', 'else', 'could', 'neither', 'thru', 'see', 'put', 'here', 'seem', 'which', 'becomes', 'co', 'part', 'nothing', 'whatever', 'bill', 'fifty', 'beforehand', 'they', 'thus', 'system', 'elsewhere', 'we', 'therefore', 'mill', 'never', 'herein', 'twelve', 'yourselves', 'hereupon', 'without', 'yours', 'call', 'why', 'even', 'the', 'my', 'her', 'he', 'throughout', 'whereby', 'beyond', 'couldnt', 'into', 'myself', 'by', 'back', 'now', 'name', 'well', 'i', 'next', 'while', 'once', 'few', 'therein', 'un', 'interest', 'full', 'because', 'ourselves', 'whenever', 'anyone', 'themselves', 'rather', 'someone', 'ever', 'eleven', 'herself', 'or', 'no', 'hence', 'fire', 'so', 'nobody', 'everywhere', 'mine', 'have', 'am', 'perhaps', 'whom', 'sixty', 'much', 'his', 'found', 'last', 'it', 'and', 'what', 'a', 'although', 'alone', 'whereafter', 'nine', 'nor', 'cant', 'him', 'been', 'on', 'least', 'of', 'anywhere', 'describe', 'whether', 'thin', 'wherein', 'three', 'none', 'something', 'already', 'itself', 'anyway', 'indeed', 'should', 'over', 'upon', 'sincere', 'somehow', 'meanwhile', 'thence', 'as', 'to', 'she', 'all', 'thereby', 'two', 'anyhow', 'third', 'first', 'con', 'more', 'again', 'along', 'becoming', 'eight', 'seeming', 'in', 'move', 'find', 'above', 'can', 'ten', 'become', 'ltd', 'ours', 'amoungst', 'yet', 'not', 'hundred', 'wherever', 'sometimes', 'anything', 'every', 'afterwards', 'get', 'any', 'there', 'via', 'some', 'too', 'behind', 'you', 'ie', 'etc', 'where', 'each', 'otherwise', 'do', 'whose', 'whither', 'towards', 'whoever', 'bottom', 'against', 'will', 'an', 'has', 'from', 'mostly', 'fill', 'became', 'four', 'de'})\n"
     ]
    }
   ],
   "source": [
    "\n",
    "from sklearn.feature_extraction import stop_words\n",
    "print(stop_words.ENGLISH_STOP_WORDS)"
   ]
  },
  {
   "cell_type": "markdown",
   "metadata": {},
   "source": [
    "You should have seen a large list of words that looks like:\n",
    "\n",
    "```frozenset({'across', 'mine', 'cannot', ...})```\n",
    "\n",
    "`frozenset` is a type of Python object that is immutable. In this lab you can use it just like an array without conversion."
   ]
  },
  {
   "cell_type": "markdown",
   "metadata": {},
   "source": [
    "Next, test your function with supplying `stop_words.ENGLISH_STOP_WORDS` as the second parameter."
   ]
  },
  {
   "cell_type": "code",
   "execution_count": 31,
   "metadata": {},
   "outputs": [
    {
     "name": "stdout",
     "output_type": "stream",
     "text": [
      "{'bag_of_words': ['ironhack', 'cool', 'love', 'student'], 'term_freq': [[1, 1, 0, 0], [1, 0, 1, 0], [1, 0, 0, 1]]}\n"
     ]
    }
   ],
   "source": [
    "bow = get_bow_from_docs(docs, stop_words.ENGLISH_STOP_WORDS)\n",
    "\n",
    "print(bow)"
   ]
  },
  {
   "cell_type": "markdown",
   "metadata": {},
   "source": [
    "You should have seen:\n",
    "\n",
    "```{'bag_of_words': ['ironhack', 'cool', 'love', 'student'], 'term_freq': [[1, 1, 0, 0], [1, 0, 1, 0], [1, 0, 0, 1]]}```"
   ]
  },
  {
   "cell_type": "code",
   "execution_count": null,
   "metadata": {},
   "outputs": [],
   "source": [
    "Yes"
   ]
  }
 ],
 "metadata": {
  "kernelspec": {
   "display_name": "Python 3",
   "language": "python",
   "name": "python3"
  },
  "language_info": {
   "codemirror_mode": {
    "name": "ipython",
    "version": 3
   },
   "file_extension": ".py",
   "mimetype": "text/x-python",
   "name": "python",
   "nbconvert_exporter": "python",
   "pygments_lexer": "ipython3",
   "version": "3.7.5"
  }
 },
 "nbformat": 4,
 "nbformat_minor": 4
}
