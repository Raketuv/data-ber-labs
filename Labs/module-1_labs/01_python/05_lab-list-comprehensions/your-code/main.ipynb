{
 "cells": [
  {
   "cell_type": "markdown",
   "metadata": {},
   "source": [
    "# List Comprehensions Lab\n",
    "\n",
    "Complete the following set of exercises to solidify your knowledge of list comprehensions."
   ]
  },
  {
   "cell_type": "code",
   "execution_count": 1,
   "metadata": {},
   "outputs": [],
   "source": [
    "import os\n",
    "import numpy as np\n",
    "import pandas as pd"
   ]
  },
  {
   "cell_type": "markdown",
   "metadata": {},
   "source": [
    "### 1. Use a list comprehension to create and print a list of consecutive integers starting with 1 and ending with 50."
   ]
  },
  {
   "cell_type": "code",
   "execution_count": 4,
   "metadata": {},
   "outputs": [
    {
     "name": "stdout",
     "output_type": "stream",
     "text": [
      "[1, 2, 3, 4, 5, 6, 7, 8, 9, 10, 11, 12, 13, 14, 15, 16, 17, 18, 19, 20, 21, 22, 23, 24, 25, 26, 27, 28, 29, 30, 31, 32, 33, 34, 35, 36, 37, 38, 39, 40, 41, 42, 43, 44, 45, 46, 47, 48, 49, 50]\n"
     ]
    }
   ],
   "source": [
    "onetofifty = [i for i in range(1,51)]\n",
    "print(onetofifty)"
   ]
  },
  {
   "cell_type": "markdown",
   "metadata": {},
   "source": [
    "### 2. Use a list comprehension to create and print a list of even numbers starting with 2 and ending with 200."
   ]
  },
  {
   "cell_type": "code",
   "execution_count": 7,
   "metadata": {},
   "outputs": [
    {
     "name": "stdout",
     "output_type": "stream",
     "text": [
      "[2, 4, 6, 8, 10, 12, 14, 16, 18, 20, 22, 24, 26, 28, 30, 32, 34, 36, 38, 40, 42, 44, 46, 48, 50, 52, 54, 56, 58, 60, 62, 64, 66, 68, 70, 72, 74, 76, 78, 80, 82, 84, 86, 88, 90, 92, 94, 96, 98, 100, 102, 104, 106, 108, 110, 112, 114, 116, 118, 120, 122, 124, 126, 128, 130, 132, 134, 136, 138, 140, 142, 144, 146, 148, 150, 152, 154, 156, 158, 160, 162, 164, 166, 168, 170, 172, 174, 176, 178, 180, 182, 184, 186, 188, 190, 192, 194, 196, 198, 200]\n"
     ]
    }
   ],
   "source": [
    "twotohundred = [i for i in range(2,201) if i%2 == 0]\n",
    "print(twotohundred)"
   ]
  },
  {
   "cell_type": "markdown",
   "metadata": {},
   "source": [
    "### 3. Use a list comprehension to create and print a list containing all elements of the 10 x 4 Numpy array below."
   ]
  },
  {
   "cell_type": "code",
   "execution_count": 8,
   "metadata": {},
   "outputs": [],
   "source": [
    "a = np.array([[0.84062117, 0.48006452, 0.7876326 , 0.77109654],\n",
    "       [0.44409793, 0.09014516, 0.81835917, 0.87645456],\n",
    "       [0.7066597 , 0.09610873, 0.41247947, 0.57433389],\n",
    "       [0.29960807, 0.42315023, 0.34452557, 0.4751035 ],\n",
    "       [0.17003563, 0.46843998, 0.92796258, 0.69814654],\n",
    "       [0.41290051, 0.19561071, 0.16284783, 0.97016248],\n",
    "       [0.71725408, 0.87702738, 0.31244595, 0.76615487],\n",
    "       [0.20754036, 0.57871812, 0.07214068, 0.40356048],\n",
    "       [0.12149553, 0.53222417, 0.9976855 , 0.12536346],\n",
    "       [0.80930099, 0.50962849, 0.94555126, 0.33364763]])"
   ]
  },
  {
   "cell_type": "code",
   "execution_count": 25,
   "metadata": {},
   "outputs": [
    {
     "name": "stdout",
     "output_type": "stream",
     "text": [
      "[0.84062117, 0.48006452, 0.7876326, 0.77109654, 0.44409793, 0.09014516, 0.81835917, 0.87645456, 0.7066597, 0.09610873, 0.41247947, 0.57433389, 0.29960807, 0.42315023, 0.34452557, 0.4751035, 0.17003563, 0.46843998, 0.92796258, 0.69814654, 0.41290051, 0.19561071, 0.16284783, 0.97016248, 0.71725408, 0.87702738, 0.31244595, 0.76615487, 0.20754036, 0.57871812, 0.07214068, 0.40356048, 0.12149553, 0.53222417, 0.9976855, 0.12536346, 0.80930099, 0.50962849, 0.94555126, 0.33364763]\n",
      "[0.84062117, 0.48006452, 0.7876326, 0.77109654, 0.44409793, 0.09014516, 0.81835917, 0.87645456, 0.7066597, 0.09610873, 0.41247947, 0.57433389, 0.29960807, 0.42315023, 0.34452557, 0.4751035, 0.17003563, 0.46843998, 0.92796258, 0.69814654, 0.41290051, 0.19561071, 0.16284783, 0.97016248, 0.71725408, 0.87702738, 0.31244595, 0.76615487, 0.20754036, 0.57871812, 0.07214068, 0.40356048, 0.12149553, 0.53222417, 0.9976855, 0.12536346, 0.80930099, 0.50962849, 0.94555126, 0.33364763]\n"
     ]
    }
   ],
   "source": [
    "alist = []\n",
    "for i in a:\n",
    "    for j in i:\n",
    "        alist.append(j)\n",
    "        \n",
    "print(alist)\n",
    "\n",
    "\n",
    "blist = [i for j in a for i in j]\n",
    "print(blist)"
   ]
  },
  {
   "cell_type": "markdown",
   "metadata": {},
   "source": [
    "### 4. Add a condition to the list comprehension above so that only values greater than or equal to 0.5 are printed."
   ]
  },
  {
   "cell_type": "code",
   "execution_count": 26,
   "metadata": {},
   "outputs": [
    {
     "name": "stdout",
     "output_type": "stream",
     "text": [
      "[0.84062117, 0.7876326, 0.77109654, 0.81835917, 0.87645456, 0.7066597, 0.57433389, 0.92796258, 0.69814654, 0.97016248, 0.71725408, 0.87702738, 0.76615487, 0.57871812, 0.53222417, 0.9976855, 0.80930099, 0.50962849, 0.94555126]\n"
     ]
    }
   ],
   "source": [
    "blist = [i for j in a for i in j if i >= 0.5]\n",
    "print(blist)"
   ]
  },
  {
   "cell_type": "markdown",
   "metadata": {},
   "source": [
    "### 5. Use a list comprehension to create and print a list containing all elements of the 5 x 2 x 3 Numpy array below."
   ]
  },
  {
   "cell_type": "code",
   "execution_count": 27,
   "metadata": {},
   "outputs": [],
   "source": [
    "b = np.array([[[0.55867166, 0.06210792, 0.08147297],\n",
    "        [0.82579068, 0.91512478, 0.06833034]],\n",
    "\n",
    "       [[0.05440634, 0.65857693, 0.30296619],\n",
    "        [0.06769833, 0.96031863, 0.51293743]],\n",
    "\n",
    "       [[0.09143215, 0.71893382, 0.45850679],\n",
    "        [0.58256464, 0.59005654, 0.56266457]],\n",
    "\n",
    "       [[0.71600294, 0.87392666, 0.11434044],\n",
    "        [0.8694668 , 0.65669313, 0.10708681]],\n",
    "\n",
    "       [[0.07529684, 0.46470767, 0.47984544],\n",
    "        [0.65368638, 0.14901286, 0.23760688]]])"
   ]
  },
  {
   "cell_type": "code",
   "execution_count": 32,
   "metadata": {},
   "outputs": [
    {
     "ename": "SyntaxError",
     "evalue": "invalid syntax (<ipython-input-32-b929e0b42fab>, line 9)",
     "output_type": "error",
     "traceback": [
      "\u001b[0;36m  File \u001b[0;32m\"<ipython-input-32-b929e0b42fab>\"\u001b[0;36m, line \u001b[0;32m9\u001b[0m\n\u001b[0;31m    i for j:\u001b[0m\n\u001b[0m        ^\u001b[0m\n\u001b[0;31mSyntaxError\u001b[0m\u001b[0;31m:\u001b[0m invalid syntax\n"
     ]
    }
   ],
   "source": [
    "blist = [i for j in a for i in j]\n",
    "print(blist)\n",
    "\n",
    "clist = [i for j in k for k in b for j in k for i in j]\n",
    "print(clist)\n",
    "\n",
    "lst = [y for i in b for x in i for y in x]\n",
    "\n",
    "i for j:\n",
    "    in a for:\n",
    "        i in j.\n",
    "\n",
    "y for:\n",
    "    i in b for:\n",
    "        x in i:\n",
    "            for y in x"
   ]
  },
  {
   "cell_type": "code",
   "execution_count": 34,
   "metadata": {},
   "outputs": [
    {
     "name": "stdout",
     "output_type": "stream",
     "text": [
      "[array([0.55867166, 0.06210792, 0.08147297]), array([0.82579068, 0.91512478, 0.06833034]), array([0.05440634, 0.65857693, 0.30296619]), array([0.06769833, 0.96031863, 0.51293743]), array([0.09143215, 0.71893382, 0.45850679]), array([0.58256464, 0.59005654, 0.56266457]), array([0.71600294, 0.87392666, 0.11434044]), array([0.8694668 , 0.65669313, 0.10708681]), array([0.07529684, 0.46470767, 0.47984544]), array([0.65368638, 0.14901286, 0.23760688])]\n",
      "[0.55867166, 0.06210792, 0.08147297, 0.82579068, 0.91512478, 0.06833034, 0.05440634, 0.65857693, 0.30296619, 0.06769833, 0.96031863, 0.51293743, 0.09143215, 0.71893382, 0.45850679, 0.58256464, 0.59005654, 0.56266457, 0.71600294, 0.87392666, 0.11434044, 0.8694668, 0.65669313, 0.10708681, 0.07529684, 0.46470767, 0.47984544, 0.65368638, 0.14901286, 0.23760688]\n"
     ]
    }
   ],
   "source": [
    "blist = [i for j in b for i in j]\n",
    "print(blist)\n",
    "blist = [i for j in blist for i in j if i=>0.5]\n",
    "print(blist)"
   ]
  },
  {
   "cell_type": "code",
   "execution_count": 37,
   "metadata": {},
   "outputs": [
    {
     "name": "stdout",
     "output_type": "stream",
     "text": [
      "[0.55867166, 0.82579068, 0.91512478, 0.65857693, 0.96031863, 0.51293743, 0.71893382, 0.58256464, 0.59005654, 0.56266457, 0.71600294, 0.87392666, 0.8694668, 0.65669313, 0.65368638]\n"
     ]
    }
   ],
   "source": []
  },
  {
   "cell_type": "code",
   "execution_count": null,
   "metadata": {},
   "outputs": [],
   "source": []
  },
  {
   "cell_type": "markdown",
   "metadata": {},
   "source": [
    "### 5. Add a condition to the list comprehension above so that the last value in each subarray is printed, but only if it is less than or equal to 0.5."
   ]
  },
  {
   "cell_type": "code",
   "execution_count": null,
   "metadata": {},
   "outputs": [],
   "source": [
    "blist = [i for j in b for i in j]\n",
    "blist = [i for j in blist for i in j if i >= 0.5]\n",
    "print(blist)"
   ]
  },
  {
   "cell_type": "markdown",
   "metadata": {},
   "source": [
    "### 6. Use a list comprehension to select and print the names of all CSV files in the */data* directory."
   ]
  },
  {
   "cell_type": "code",
   "execution_count": 53,
   "metadata": {},
   "outputs": [
    {
     "name": "stdout",
     "output_type": "stream",
     "text": [
      "['your-code', 'README.md', 'data']\n",
      "['sample_file_8.txt', 'sample_file_9.txt', 'sample_file_1.csv', 'sample_file_0.csv', 'sample_file_2.csv', 'sample_file_3.csv', 'sample_file_7.csv', 'sample_file_6.csv', 'sample_file_4.csv', 'sample_file_5.csv', 'sample_file_8.csv', 'sample_file_9.csv', 'sample_file_2.txt', 'sample_file_3.txt', 'sample_file_1.txt', 'sample_file_0.txt', 'sample_file_4.txt', 'sample_file_5.txt', 'sample_file_7.txt', 'sample_file_6.txt']\n"
     ]
    }
   ],
   "source": [
    "import os\n",
    "print(os.listdir(\"../data\"))\n"
   ]
  },
  {
   "cell_type": "code",
   "execution_count": null,
   "metadata": {},
   "outputs": [],
   "source": []
  },
  {
   "cell_type": "code",
   "execution_count": 50,
   "metadata": {},
   "outputs": [],
   "source": [
    "df = pd.read_csv(\"~/Ironhack/data-ber-01-20/Labs/module-1_labs/01_python/05_lab-list-comprehensions/data/sample_file_0.csv\")"
   ]
  },
  {
   "cell_type": "code",
   "execution_count": 51,
   "metadata": {},
   "outputs": [
    {
     "name": "stdout",
     "output_type": "stream",
     "text": [
      "          0         1         2         3         4         5         6  \\\n",
      "0  0.734751  0.195362  0.734309  0.598184  0.763433  0.263434  0.868066   \n",
      "1  0.772607  0.445391  0.249642  0.787922  0.598583  0.827238  0.624126   \n",
      "2  0.226428  0.268764  0.694262  0.622335  0.063843  0.122683  0.815625   \n",
      "3  0.362748  0.495430  0.113876  0.594149  0.612522  0.625204  0.864050   \n",
      "4  0.033415  0.340433  0.464971  0.363737  0.025815  0.434129  0.415163   \n",
      "\n",
      "          7         8         9        10        11        12        13  \\\n",
      "0  0.058092  0.753502  0.587513  0.311608  0.178356  0.182922  0.147631   \n",
      "1  0.601524  0.688753  0.338870  0.081595  0.471474  0.267443  0.453351   \n",
      "2  0.584542  0.032594  0.589775  0.764350  0.650973  0.565705  0.691784   \n",
      "3  0.260279  0.528873  0.168043  0.715929  0.677014  0.175735  0.632370   \n",
      "4  0.892210  0.381701  0.415264  0.790801  0.696930  0.819751  0.944029   \n",
      "\n",
      "         14        15        16        17        18        19  \n",
      "0  0.391188  0.816049  0.749068  0.293260  0.937828  0.880858  \n",
      "1  0.800716  0.045749  0.683793  0.389789  0.016787  0.503695  \n",
      "2  0.265223  0.739031  0.560394  0.334802  0.517694  0.646110  \n",
      "3  0.926715  0.085675  0.120525  0.141746  0.771144  0.489660  \n",
      "4  0.869965  0.041723  0.819140  0.676051  0.109349  0.872947  \n"
     ]
    }
   ],
   "source": [
    "print(df)"
   ]
  },
  {
   "cell_type": "code",
   "execution_count": null,
   "metadata": {},
   "outputs": [],
   "source": []
  },
  {
   "cell_type": "markdown",
   "metadata": {},
   "source": [
    "### 7. Use a list comprehension and the Pandas `read_csv` and `concat` methods to read all CSV files in the */data* directory and combine them into a single data frame. Display the top 10 rows of the resulting data frame."
   ]
  },
  {
   "cell_type": "code",
   "execution_count": 55,
   "metadata": {},
   "outputs": [],
   "source": [
    "import pandas as pd"
   ]
  },
  {
   "cell_type": "code",
   "execution_count": 75,
   "metadata": {},
   "outputs": [
    {
     "name": "stdout",
     "output_type": "stream",
     "text": [
      "           0         1         2         3         4         5         6  \\\n",
      "0   0.132453  0.106635  0.673568  0.507253  0.162925  0.130042  0.980388   \n",
      "1   0.384938  0.767604  0.850528  0.605998  0.826172  0.667488  0.142045   \n",
      "2   0.318691  0.675720  0.807189  0.752518  0.531342  0.703225  0.598293   \n",
      "3   0.538593  0.291241  0.407187  0.613260  0.851424  0.962086  0.590512   \n",
      "4   0.713271  0.156210  0.392800  0.702348  0.009400  0.030304  0.960066   \n",
      "..       ...       ...       ...       ...       ...       ...       ...   \n",
      "0   0.702566  0.092336  0.245083  0.918402  0.695110  0.886921  0.588605   \n",
      "1   0.177005  0.649551  0.467321  0.449597  0.458872  0.815586  0.455132   \n",
      "2   0.689556  0.445586  0.005691  0.150171  0.554146  0.492320  0.185612   \n",
      "3   0.047188  0.854596  0.833368  0.043878  0.883505  0.786302  0.980916   \n",
      "4   0.936065  0.725831  0.184239  0.677391  0.242726  0.125457  0.356254   \n",
      "\n",
      "           7         8         9        10        11        12        13  \\\n",
      "0   0.623167  0.074066  0.111557  0.864664  0.093637  0.446974  0.022525   \n",
      "1   0.086904  0.912348  0.892183  0.426389  0.776552  0.429496  0.602056   \n",
      "2   0.921508  0.563333  0.184300  0.667625  0.270017  0.573440  0.163669   \n",
      "3   0.980700  0.159022  0.684265  0.898633  0.470113  0.756593  0.282408   \n",
      "4   0.688937  0.260252  0.634608  0.273775  0.264145  0.682941  0.908499   \n",
      "..       ...       ...       ...       ...       ...       ...       ...   \n",
      "0   0.950970  0.168079  0.783107  0.698836  0.120857  0.207432  0.824789   \n",
      "1   0.729812  0.998528  0.048724  0.377391  0.729498  0.721515  0.566724   \n",
      "2   0.060855  0.457443  0.847337  0.603072  0.346574  0.898464  0.482963   \n",
      "3   0.004030  0.619601  0.547769  0.160962  0.545281  0.931623  0.991855   \n",
      "4   0.937350  0.215774  0.212762  0.483018  0.573162  0.634487  0.423924   \n",
      "\n",
      "          14        15        16        17        18        19  \n",
      "0   0.713369  0.707874  0.563506  0.982256  0.562498  0.968681  \n",
      "1   0.283769  0.166793  0.316878  0.688337  0.169525  0.966198  \n",
      "2   0.032852  0.689315  0.973684  0.719610  0.163670  0.724486  \n",
      "3   0.551369  0.732153  0.494100  0.792803  0.794426  0.837695  \n",
      "4   0.450950  0.200761  0.968324  0.221165  0.891382  0.398914  \n",
      "..       ...       ...       ...       ...       ...       ...  \n",
      "0   0.349212  0.818606  0.376941  0.886644  0.472826  0.551858  \n",
      "1   0.338366  0.877239  0.129824  0.773155  0.485385  0.686294  \n",
      "2   0.443979  0.430132  0.713078  0.302786  0.051382  0.203699  \n",
      "3   0.821099  0.654592  0.346710  0.183948  0.372739  0.739383  \n",
      "4   0.394633  0.766967  0.606719  0.538712  0.885516  0.667051  \n",
      "\n",
      "[100 rows x 20 columns]\n"
     ]
    }
   ],
   "source": [
    "df = [pd.read_csv(\"../data/\"+i) for i in os.listdir(\"../data\")]\n",
    "df = pd.concat(df, axis=0)\n",
    "print(df)\n"
   ]
  },
  {
   "cell_type": "code",
   "execution_count": 77,
   "metadata": {},
   "outputs": [
    {
     "name": "stdout",
     "output_type": "stream",
     "text": [
      "<class 'pandas.core.frame.DataFrame'>\n"
     ]
    }
   ],
   "source": [
    "print(type(df))"
   ]
  },
  {
   "cell_type": "code",
   "execution_count": 80,
   "metadata": {},
   "outputs": [
    {
     "data": {
      "text/html": [
       "<div>\n",
       "<style scoped>\n",
       "    .dataframe tbody tr th:only-of-type {\n",
       "        vertical-align: middle;\n",
       "    }\n",
       "\n",
       "    .dataframe tbody tr th {\n",
       "        vertical-align: top;\n",
       "    }\n",
       "\n",
       "    .dataframe thead th {\n",
       "        text-align: right;\n",
       "    }\n",
       "</style>\n",
       "<table border=\"1\" class=\"dataframe\">\n",
       "  <thead>\n",
       "    <tr style=\"text-align: right;\">\n",
       "      <th></th>\n",
       "      <th>0</th>\n",
       "      <th>1</th>\n",
       "      <th>2</th>\n",
       "      <th>3</th>\n",
       "      <th>4</th>\n",
       "      <th>5</th>\n",
       "      <th>6</th>\n",
       "      <th>7</th>\n",
       "      <th>8</th>\n",
       "      <th>9</th>\n",
       "      <th>10</th>\n",
       "      <th>11</th>\n",
       "      <th>12</th>\n",
       "      <th>13</th>\n",
       "      <th>14</th>\n",
       "      <th>15</th>\n",
       "      <th>16</th>\n",
       "      <th>17</th>\n",
       "      <th>18</th>\n",
       "      <th>19</th>\n",
       "    </tr>\n",
       "  </thead>\n",
       "  <tbody>\n",
       "    <tr>\n",
       "      <th>0</th>\n",
       "      <td>0.132453</td>\n",
       "      <td>0.106635</td>\n",
       "      <td>0.673568</td>\n",
       "      <td>0.507253</td>\n",
       "      <td>0.162925</td>\n",
       "      <td>0.130042</td>\n",
       "      <td>0.980388</td>\n",
       "      <td>0.623167</td>\n",
       "      <td>0.074066</td>\n",
       "      <td>0.111557</td>\n",
       "      <td>0.864664</td>\n",
       "      <td>0.093637</td>\n",
       "      <td>0.446974</td>\n",
       "      <td>0.022525</td>\n",
       "      <td>0.713369</td>\n",
       "      <td>0.707874</td>\n",
       "      <td>0.563506</td>\n",
       "      <td>0.982256</td>\n",
       "      <td>0.562498</td>\n",
       "      <td>0.968681</td>\n",
       "    </tr>\n",
       "    <tr>\n",
       "      <th>1</th>\n",
       "      <td>0.384938</td>\n",
       "      <td>0.767604</td>\n",
       "      <td>0.850528</td>\n",
       "      <td>0.605998</td>\n",
       "      <td>0.826172</td>\n",
       "      <td>0.667488</td>\n",
       "      <td>0.142045</td>\n",
       "      <td>0.086904</td>\n",
       "      <td>0.912348</td>\n",
       "      <td>0.892183</td>\n",
       "      <td>0.426389</td>\n",
       "      <td>0.776552</td>\n",
       "      <td>0.429496</td>\n",
       "      <td>0.602056</td>\n",
       "      <td>0.283769</td>\n",
       "      <td>0.166793</td>\n",
       "      <td>0.316878</td>\n",
       "      <td>0.688337</td>\n",
       "      <td>0.169525</td>\n",
       "      <td>0.966198</td>\n",
       "    </tr>\n",
       "    <tr>\n",
       "      <th>2</th>\n",
       "      <td>0.318691</td>\n",
       "      <td>0.675720</td>\n",
       "      <td>0.807189</td>\n",
       "      <td>0.752518</td>\n",
       "      <td>0.531342</td>\n",
       "      <td>0.703225</td>\n",
       "      <td>0.598293</td>\n",
       "      <td>0.921508</td>\n",
       "      <td>0.563333</td>\n",
       "      <td>0.184300</td>\n",
       "      <td>0.667625</td>\n",
       "      <td>0.270017</td>\n",
       "      <td>0.573440</td>\n",
       "      <td>0.163669</td>\n",
       "      <td>0.032852</td>\n",
       "      <td>0.689315</td>\n",
       "      <td>0.973684</td>\n",
       "      <td>0.719610</td>\n",
       "      <td>0.163670</td>\n",
       "      <td>0.724486</td>\n",
       "    </tr>\n",
       "    <tr>\n",
       "      <th>3</th>\n",
       "      <td>0.538593</td>\n",
       "      <td>0.291241</td>\n",
       "      <td>0.407187</td>\n",
       "      <td>0.613260</td>\n",
       "      <td>0.851424</td>\n",
       "      <td>0.962086</td>\n",
       "      <td>0.590512</td>\n",
       "      <td>0.980700</td>\n",
       "      <td>0.159022</td>\n",
       "      <td>0.684265</td>\n",
       "      <td>0.898633</td>\n",
       "      <td>0.470113</td>\n",
       "      <td>0.756593</td>\n",
       "      <td>0.282408</td>\n",
       "      <td>0.551369</td>\n",
       "      <td>0.732153</td>\n",
       "      <td>0.494100</td>\n",
       "      <td>0.792803</td>\n",
       "      <td>0.794426</td>\n",
       "      <td>0.837695</td>\n",
       "    </tr>\n",
       "    <tr>\n",
       "      <th>4</th>\n",
       "      <td>0.713271</td>\n",
       "      <td>0.156210</td>\n",
       "      <td>0.392800</td>\n",
       "      <td>0.702348</td>\n",
       "      <td>0.009400</td>\n",
       "      <td>0.030304</td>\n",
       "      <td>0.960066</td>\n",
       "      <td>0.688937</td>\n",
       "      <td>0.260252</td>\n",
       "      <td>0.634608</td>\n",
       "      <td>0.273775</td>\n",
       "      <td>0.264145</td>\n",
       "      <td>0.682941</td>\n",
       "      <td>0.908499</td>\n",
       "      <td>0.450950</td>\n",
       "      <td>0.200761</td>\n",
       "      <td>0.968324</td>\n",
       "      <td>0.221165</td>\n",
       "      <td>0.891382</td>\n",
       "      <td>0.398914</td>\n",
       "    </tr>\n",
       "    <tr>\n",
       "      <th>0</th>\n",
       "      <td>0.215190</td>\n",
       "      <td>0.155352</td>\n",
       "      <td>0.160848</td>\n",
       "      <td>0.807736</td>\n",
       "      <td>0.363587</td>\n",
       "      <td>0.899832</td>\n",
       "      <td>0.146754</td>\n",
       "      <td>0.094802</td>\n",
       "      <td>0.705133</td>\n",
       "      <td>0.882762</td>\n",
       "      <td>0.773320</td>\n",
       "      <td>0.687745</td>\n",
       "      <td>0.016789</td>\n",
       "      <td>0.340725</td>\n",
       "      <td>0.984182</td>\n",
       "      <td>0.985461</td>\n",
       "      <td>0.412044</td>\n",
       "      <td>0.867894</td>\n",
       "      <td>0.113432</td>\n",
       "      <td>0.349845</td>\n",
       "    </tr>\n",
       "    <tr>\n",
       "      <th>1</th>\n",
       "      <td>0.895544</td>\n",
       "      <td>0.955196</td>\n",
       "      <td>0.089925</td>\n",
       "      <td>0.827555</td>\n",
       "      <td>0.089071</td>\n",
       "      <td>0.642883</td>\n",
       "      <td>0.996052</td>\n",
       "      <td>0.879020</td>\n",
       "      <td>0.421837</td>\n",
       "      <td>0.412141</td>\n",
       "      <td>0.858513</td>\n",
       "      <td>0.217091</td>\n",
       "      <td>0.176157</td>\n",
       "      <td>0.551236</td>\n",
       "      <td>0.834378</td>\n",
       "      <td>0.419535</td>\n",
       "      <td>0.041431</td>\n",
       "      <td>0.602258</td>\n",
       "      <td>0.984628</td>\n",
       "      <td>0.516899</td>\n",
       "    </tr>\n",
       "    <tr>\n",
       "      <th>2</th>\n",
       "      <td>0.413752</td>\n",
       "      <td>0.693052</td>\n",
       "      <td>0.789796</td>\n",
       "      <td>0.929164</td>\n",
       "      <td>0.536191</td>\n",
       "      <td>0.439769</td>\n",
       "      <td>0.773474</td>\n",
       "      <td>0.982074</td>\n",
       "      <td>0.876955</td>\n",
       "      <td>0.633154</td>\n",
       "      <td>0.279005</td>\n",
       "      <td>0.483317</td>\n",
       "      <td>0.908288</td>\n",
       "      <td>0.756172</td>\n",
       "      <td>0.462130</td>\n",
       "      <td>0.289892</td>\n",
       "      <td>0.145233</td>\n",
       "      <td>0.076819</td>\n",
       "      <td>0.797836</td>\n",
       "      <td>0.197592</td>\n",
       "    </tr>\n",
       "    <tr>\n",
       "      <th>3</th>\n",
       "      <td>0.728001</td>\n",
       "      <td>0.348156</td>\n",
       "      <td>0.935787</td>\n",
       "      <td>0.851163</td>\n",
       "      <td>0.444573</td>\n",
       "      <td>0.715080</td>\n",
       "      <td>0.988408</td>\n",
       "      <td>0.210332</td>\n",
       "      <td>0.732133</td>\n",
       "      <td>0.892383</td>\n",
       "      <td>0.216893</td>\n",
       "      <td>0.367595</td>\n",
       "      <td>0.846208</td>\n",
       "      <td>0.240111</td>\n",
       "      <td>0.471880</td>\n",
       "      <td>0.399721</td>\n",
       "      <td>0.758196</td>\n",
       "      <td>0.665568</td>\n",
       "      <td>0.931542</td>\n",
       "      <td>0.448124</td>\n",
       "    </tr>\n",
       "    <tr>\n",
       "      <th>4</th>\n",
       "      <td>0.134942</td>\n",
       "      <td>0.875931</td>\n",
       "      <td>0.273505</td>\n",
       "      <td>0.207588</td>\n",
       "      <td>0.080696</td>\n",
       "      <td>0.717396</td>\n",
       "      <td>0.033930</td>\n",
       "      <td>0.646837</td>\n",
       "      <td>0.888722</td>\n",
       "      <td>0.922742</td>\n",
       "      <td>0.176593</td>\n",
       "      <td>0.861333</td>\n",
       "      <td>0.389451</td>\n",
       "      <td>0.695244</td>\n",
       "      <td>0.129955</td>\n",
       "      <td>0.364114</td>\n",
       "      <td>0.428224</td>\n",
       "      <td>0.365442</td>\n",
       "      <td>0.847818</td>\n",
       "      <td>0.588319</td>\n",
       "    </tr>\n",
       "  </tbody>\n",
       "</table>\n",
       "</div>"
      ],
      "text/plain": [
       "          0         1         2         3         4         5         6  \\\n",
       "0  0.132453  0.106635  0.673568  0.507253  0.162925  0.130042  0.980388   \n",
       "1  0.384938  0.767604  0.850528  0.605998  0.826172  0.667488  0.142045   \n",
       "2  0.318691  0.675720  0.807189  0.752518  0.531342  0.703225  0.598293   \n",
       "3  0.538593  0.291241  0.407187  0.613260  0.851424  0.962086  0.590512   \n",
       "4  0.713271  0.156210  0.392800  0.702348  0.009400  0.030304  0.960066   \n",
       "0  0.215190  0.155352  0.160848  0.807736  0.363587  0.899832  0.146754   \n",
       "1  0.895544  0.955196  0.089925  0.827555  0.089071  0.642883  0.996052   \n",
       "2  0.413752  0.693052  0.789796  0.929164  0.536191  0.439769  0.773474   \n",
       "3  0.728001  0.348156  0.935787  0.851163  0.444573  0.715080  0.988408   \n",
       "4  0.134942  0.875931  0.273505  0.207588  0.080696  0.717396  0.033930   \n",
       "\n",
       "          7         8         9        10        11        12        13  \\\n",
       "0  0.623167  0.074066  0.111557  0.864664  0.093637  0.446974  0.022525   \n",
       "1  0.086904  0.912348  0.892183  0.426389  0.776552  0.429496  0.602056   \n",
       "2  0.921508  0.563333  0.184300  0.667625  0.270017  0.573440  0.163669   \n",
       "3  0.980700  0.159022  0.684265  0.898633  0.470113  0.756593  0.282408   \n",
       "4  0.688937  0.260252  0.634608  0.273775  0.264145  0.682941  0.908499   \n",
       "0  0.094802  0.705133  0.882762  0.773320  0.687745  0.016789  0.340725   \n",
       "1  0.879020  0.421837  0.412141  0.858513  0.217091  0.176157  0.551236   \n",
       "2  0.982074  0.876955  0.633154  0.279005  0.483317  0.908288  0.756172   \n",
       "3  0.210332  0.732133  0.892383  0.216893  0.367595  0.846208  0.240111   \n",
       "4  0.646837  0.888722  0.922742  0.176593  0.861333  0.389451  0.695244   \n",
       "\n",
       "         14        15        16        17        18        19  \n",
       "0  0.713369  0.707874  0.563506  0.982256  0.562498  0.968681  \n",
       "1  0.283769  0.166793  0.316878  0.688337  0.169525  0.966198  \n",
       "2  0.032852  0.689315  0.973684  0.719610  0.163670  0.724486  \n",
       "3  0.551369  0.732153  0.494100  0.792803  0.794426  0.837695  \n",
       "4  0.450950  0.200761  0.968324  0.221165  0.891382  0.398914  \n",
       "0  0.984182  0.985461  0.412044  0.867894  0.113432  0.349845  \n",
       "1  0.834378  0.419535  0.041431  0.602258  0.984628  0.516899  \n",
       "2  0.462130  0.289892  0.145233  0.076819  0.797836  0.197592  \n",
       "3  0.471880  0.399721  0.758196  0.665568  0.931542  0.448124  \n",
       "4  0.129955  0.364114  0.428224  0.365442  0.847818  0.588319  "
      ]
     },
     "execution_count": 80,
     "metadata": {},
     "output_type": "execute_result"
    }
   ],
   "source": [
    "df.head(10)"
   ]
  },
  {
   "cell_type": "markdown",
   "metadata": {},
   "source": [
    "### 8. Use a list comprehension to select and print the column numbers for columns from the data set whose median is less than 0.48."
   ]
  },
  {
   "cell_type": "code",
   "execution_count": 91,
   "metadata": {},
   "outputs": [],
   "source": [
    "import statistics"
   ]
  },
  {
   "cell_type": "code",
   "execution_count": null,
   "metadata": {},
   "outputs": [],
   "source": []
  },
  {
   "cell_type": "code",
   "execution_count": 119,
   "metadata": {},
   "outputs": [
    {
     "name": "stdout",
     "output_type": "stream",
     "text": [
      "0.5183927088531357\n",
      "0.5183927088531357 median of column 0\n",
      "0.4982976284251167 median of column 1\n",
      "0.47617375620406 median of column 2\n",
      "0.6177974469785128 median of column 3\n",
      "0.5443924803856541 median of column 4\n",
      "0.6525702257070289 median of column 5\n",
      "0.5895587762839766 median of column 6\n",
      "0.6525833914513712 median of column 7\n",
      "0.4841639880065958 median of column 8\n",
      "0.4561419452336911 median of column 9\n",
      "0.5294121425646423 median of column 10\n",
      "0.5175904648111134 median of column 11\n",
      "0.45088123042636974 median of column 12\n",
      "0.6935141238122557 median of column 13\n",
      "0.4326206030433662 median of column 14\n",
      "0.5742865070877934 median of column 15\n",
      "0.527874493149453 median of column 16\n",
      "0.47384343112174854 median of column 17\n",
      "0.5370667066122712 median of column 18\n",
      "0.5563000721000172 median of column 19\n",
      "2\n",
      "9\n",
      "12\n",
      "14\n",
      "17\n"
     ]
    },
    {
     "data": {
      "text/plain": [
       "[None, None, None, None, None]"
      ]
     },
     "execution_count": 119,
     "metadata": {},
     "output_type": "execute_result"
    }
   ],
   "source": [
    "columnsData = list(df.iloc[ : , 0])\n",
    "print(statistics.median(columnsData))\n",
    "for i in list(df):\n",
    "    print(statistics.median(list(df.loc[ : , i])), \"median of column\", i)\n",
    "[print(i) for i in list(df) if statistics.median(list(df.loc[ : , i]))<=0.48]"
   ]
  },
  {
   "cell_type": "markdown",
   "metadata": {},
   "source": [
    "### 9. Use a list comprehension to add a new column (20) to the data frame whose values are the values in column 19 minus 0.1. Display the top 10 rows of the resulting data frame."
   ]
  },
  {
   "cell_type": "code",
   "execution_count": 121,
   "metadata": {},
   "outputs": [
    {
     "ename": "NameError",
     "evalue": "name 'x' is not defined",
     "output_type": "error",
     "traceback": [
      "\u001b[0;31m---------------------------------------------------------------------------\u001b[0m",
      "\u001b[0;31mNameError\u001b[0m                                 Traceback (most recent call last)",
      "\u001b[0;32m<ipython-input-121-8e2522834ea2>\u001b[0m in \u001b[0;36m<module>\u001b[0;34m\u001b[0m\n\u001b[0;32m----> 1\u001b[0;31m \u001b[0mresults\u001b[0m \u001b[0;34m=\u001b[0m \u001b[0;34m[\u001b[0m\u001b[0mx\u001b[0m\u001b[0;34m[\u001b[0m\u001b[0;36m0\u001b[0m\u001b[0;34m]\u001b[0m \u001b[0;32mfor\u001b[0m \u001b[0mcol\u001b[0m \u001b[0;32min\u001b[0m \u001b[0mdf\u001b[0m\u001b[0;34m.\u001b[0m\u001b[0mcolumns\u001b[0m\u001b[0;34m]\u001b[0m\u001b[0;34m\u001b[0m\u001b[0;34m\u001b[0m\u001b[0m\n\u001b[0m\u001b[1;32m      2\u001b[0m \u001b[0mprint\u001b[0m\u001b[0;34m(\u001b[0m\u001b[0mresults\u001b[0m\u001b[0;34m)\u001b[0m\u001b[0;34m\u001b[0m\u001b[0;34m\u001b[0m\u001b[0m\n",
      "\u001b[0;32m<ipython-input-121-8e2522834ea2>\u001b[0m in \u001b[0;36m<listcomp>\u001b[0;34m(.0)\u001b[0m\n\u001b[0;32m----> 1\u001b[0;31m \u001b[0mresults\u001b[0m \u001b[0;34m=\u001b[0m \u001b[0;34m[\u001b[0m\u001b[0mx\u001b[0m\u001b[0;34m[\u001b[0m\u001b[0;36m0\u001b[0m\u001b[0;34m]\u001b[0m \u001b[0;32mfor\u001b[0m \u001b[0mcol\u001b[0m \u001b[0;32min\u001b[0m \u001b[0mdf\u001b[0m\u001b[0;34m.\u001b[0m\u001b[0mcolumns\u001b[0m\u001b[0;34m]\u001b[0m\u001b[0;34m\u001b[0m\u001b[0;34m\u001b[0m\u001b[0m\n\u001b[0m\u001b[1;32m      2\u001b[0m \u001b[0mprint\u001b[0m\u001b[0;34m(\u001b[0m\u001b[0mresults\u001b[0m\u001b[0;34m)\u001b[0m\u001b[0;34m\u001b[0m\u001b[0;34m\u001b[0m\u001b[0m\n",
      "\u001b[0;31mNameError\u001b[0m: name 'x' is not defined"
     ]
    }
   ],
   "source": [
    "results = [x[0] for col in df.columns]\n",
    "print(results)"
   ]
  },
  {
   "cell_type": "code",
   "execution_count": 122,
   "metadata": {},
   "outputs": [
    {
     "ename": "NameError",
     "evalue": "name 'iris' is not defined",
     "output_type": "error",
     "traceback": [
      "\u001b[0;31m---------------------------------------------------------------------------\u001b[0m",
      "\u001b[0;31mNameError\u001b[0m                                 Traceback (most recent call last)",
      "\u001b[0;32m<ipython-input-122-01bfa5566378>\u001b[0m in \u001b[0;36m<module>\u001b[0;34m\u001b[0m\n\u001b[0;32m----> 1\u001b[0;31m \u001b[0mprint\u001b[0m\u001b[0;34m(\u001b[0m\u001b[0miris\u001b[0m\u001b[0;34m.\u001b[0m\u001b[0mkeys\u001b[0m\u001b[0;34m(\u001b[0m\u001b[0;34m)\u001b[0m\u001b[0;34m)\u001b[0m\u001b[0;34m\u001b[0m\u001b[0;34m\u001b[0m\u001b[0m\n\u001b[0m",
      "\u001b[0;31mNameError\u001b[0m: name 'iris' is not defined"
     ]
    }
   ],
   "source": [
    "print(iris.keys())"
   ]
  },
  {
   "cell_type": "code",
   "execution_count": null,
   "metadata": {},
   "outputs": [],
   "source": [
    "new_keys = [key.replace(\"__\",\"_\") for key in sample.keys()]"
   ]
  },
  {
   "cell_type": "markdown",
   "metadata": {},
   "source": [
    "### 10. Use a list comprehension to extract and print all values from the data set that are between 0.7 and 0.75."
   ]
  },
  {
   "cell_type": "code",
   "execution_count": null,
   "metadata": {},
   "outputs": [],
   "source": []
  }
 ],
 "metadata": {
  "kernelspec": {
   "display_name": "Python 3",
   "language": "python",
   "name": "python3"
  },
  "language_info": {
   "codemirror_mode": {
    "name": "ipython",
    "version": 3
   },
   "file_extension": ".py",
   "mimetype": "text/x-python",
   "name": "python",
   "nbconvert_exporter": "python",
   "pygments_lexer": "ipython3",
   "version": "3.7.5"
  }
 },
 "nbformat": 4,
 "nbformat_minor": 2
}
