{
 "cells": [
  {
   "cell_type": "code",
   "execution_count": 2,
   "metadata": {},
   "outputs": [
    {
     "ename": "ModuleNotFoundError",
     "evalue": "No module named 'pandas'",
     "output_type": "error",
     "traceback": [
      "\u001b[0;31m---------------------------------------------------------------------------\u001b[0m",
      "\u001b[0;31mModuleNotFoundError\u001b[0m                       Traceback (most recent call last)",
      "\u001b[0;32m<ipython-input-2-7dd3504c366f>\u001b[0m in \u001b[0;36m<module>\u001b[0;34m\u001b[0m\n\u001b[0;32m----> 1\u001b[0;31m \u001b[0;32mimport\u001b[0m \u001b[0mpandas\u001b[0m \u001b[0;32mas\u001b[0m \u001b[0mpd\u001b[0m\u001b[0;34m\u001b[0m\u001b[0;34m\u001b[0m\u001b[0m\n\u001b[0m",
      "\u001b[0;31mModuleNotFoundError\u001b[0m: No module named 'pandas'"
     ]
    }
   ],
   "source": [
    "import pandas as pd"
   ]
  },
  {
   "cell_type": "code",
   "execution_count": 10,
   "metadata": {},
   "outputs": [],
   "source": [
    "import os"
   ]
  },
  {
   "cell_type": "code",
   "execution_count": 11,
   "metadata": {},
   "outputs": [
    {
     "data": {
      "text/plain": [
       "['Testing.ipynb', '.ipynb_checkpoints', 'task_1.csv']"
      ]
     },
     "execution_count": 11,
     "metadata": {},
     "output_type": "execute_result"
    }
   ],
   "source": [
    "os.listdir()"
   ]
  },
  {
   "cell_type": "code",
   "execution_count": 27,
   "metadata": {},
   "outputs": [],
   "source": [
    "csv = pd.read_csv('task_1.csv')"
   ]
  },
  {
   "cell_type": "code",
   "execution_count": 28,
   "metadata": {},
   "outputs": [
    {
     "name": "stdout",
     "output_type": "stream",
     "text": [
      "   category sub_category   color  Unnamed: 3  Unnamed: 4  Unnamed: 5  \\\n",
      "0   germany       berlin    blue         NaN         NaN         NaN   \n",
      "1   germany      hamburg     red         NaN         NaN         NaN   \n",
      "2   germany       munich     red         NaN         NaN         NaN   \n",
      "3   germany      cologne   green         NaN         NaN         NaN   \n",
      "4   germany  duesseldorf  yellow         NaN         NaN         NaN   \n",
      "5    france         nice   green         NaN         NaN         NaN   \n",
      "6    france        paris    blue         NaN         NaN         NaN   \n",
      "7    france       cannes   green         NaN         NaN         NaN   \n",
      "8    france   marseilles   green         NaN         NaN         NaN   \n",
      "9        uk       london  yellow         NaN         NaN         NaN   \n",
      "10       uk    cambridge    blue         NaN         NaN         NaN   \n",
      "11    spain    barcelona  yellow         NaN         NaN         NaN   \n",
      "12    spain       madrid  yellow         NaN         NaN         NaN   \n",
      "13      NaN          NaN     NaN         NaN         NaN         NaN   \n",
      "14      NaN          NaN     NaN         NaN         NaN         NaN   \n",
      "15      NaN          NaN     NaN         NaN         NaN         NaN   \n",
      "16      NaN          NaN     NaN         NaN         NaN         NaN   \n",
      "17      NaN          NaN     NaN         NaN         NaN         NaN   \n",
      "18      NaN          NaN     NaN         NaN         NaN         NaN   \n",
      "\n",
      "    Unnamed: 6  Unnamed: 7  \n",
      "0          NaN         NaN  \n",
      "1          NaN         NaN  \n",
      "2          NaN         NaN  \n",
      "3          NaN         NaN  \n",
      "4          NaN         NaN  \n",
      "5          NaN         NaN  \n",
      "6          NaN         NaN  \n",
      "7          NaN         NaN  \n",
      "8          NaN         NaN  \n",
      "9          NaN         NaN  \n",
      "10         NaN         NaN  \n",
      "11         NaN         NaN  \n",
      "12         NaN         NaN  \n",
      "13         NaN         NaN  \n",
      "14         NaN         NaN  \n",
      "15         NaN         NaN  \n",
      "16         NaN         NaN  \n",
      "17         NaN         NaN  \n",
      "18         NaN         NaN  \n"
     ]
    }
   ],
   "source": [
    "print(csv)"
   ]
  },
  {
   "cell_type": "code",
   "execution_count": 35,
   "metadata": {},
   "outputs": [
    {
     "name": "stdout",
     "output_type": "stream",
     "text": [
      "   category sub_category   color\n",
      "0   germany       berlin    blue\n",
      "1   germany      hamburg     red\n",
      "2   germany       munich     red\n",
      "3   germany      cologne   green\n",
      "4   germany  duesseldorf  yellow\n",
      "5    france         nice   green\n",
      "6    france        paris    blue\n",
      "7    france       cannes   green\n",
      "8    france   marseilles   green\n",
      "9        uk       london  yellow\n",
      "10       uk    cambridge    blue\n",
      "11    spain    barcelona  yellow\n",
      "12    spain       madrid  yellow\n",
      "13      NaN          NaN     NaN\n",
      "14      NaN          NaN     NaN\n",
      "15      NaN          NaN     NaN\n",
      "16      NaN          NaN     NaN\n",
      "17      NaN          NaN     NaN\n",
      "18      NaN          NaN     NaN\n"
     ]
    }
   ],
   "source": [
    "csv = csv.iloc[:, [0,1,2]]\n",
    "print(csv)"
   ]
  },
  {
   "cell_type": "code",
   "execution_count": 37,
   "metadata": {},
   "outputs": [
    {
     "name": "stdout",
     "output_type": "stream",
     "text": [
      "   category sub_category   color\n",
      "0   germany       berlin    blue\n",
      "1   germany      hamburg     red\n",
      "2   germany       munich     red\n",
      "3   germany      cologne   green\n",
      "4   germany  duesseldorf  yellow\n",
      "5    france         nice   green\n",
      "6    france        paris    blue\n",
      "7    france       cannes   green\n",
      "8    france   marseilles   green\n",
      "9        uk       london  yellow\n",
      "10       uk    cambridge    blue\n",
      "11    spain    barcelona  yellow\n",
      "12    spain       madrid  yellow\n"
     ]
    }
   ],
   "source": [
    "csv = csv.iloc[0:13, :]\n",
    "print(csv)"
   ]
  },
  {
   "cell_type": "code",
   "execution_count": 41,
   "metadata": {},
   "outputs": [
    {
     "name": "stdout",
     "output_type": "stream",
     "text": [
      "0     germany\n",
      "1     germany\n",
      "2     germany\n",
      "3     germany\n",
      "4     germany\n",
      "5      france\n",
      "6      france\n",
      "7      france\n",
      "8      france\n",
      "9          uk\n",
      "10         uk\n",
      "11      spain\n",
      "12      spain\n",
      "Name: category, dtype: object\n",
      "['germany', 'france', 'uk', 'spain']\n"
     ]
    }
   ],
   "source": [
    "categories = csv['category']\n",
    "print(categories)\n",
    "categories = list(set(categories))\n",
    "print(categories)"
   ]
  },
  {
   "cell_type": "code",
   "execution_count": 42,
   "metadata": {},
   "outputs": [
    {
     "name": "stdout",
     "output_type": "stream",
     "text": [
      "['red', 'yellow', 'green', 'blue']\n"
     ]
    }
   ],
   "source": [
    "colors = list(set(csv['color']))\n",
    "print(colors)"
   ]
  },
  {
   "cell_type": "code",
   "execution_count": 68,
   "metadata": {},
   "outputs": [
    {
     "name": "stdout",
     "output_type": "stream",
     "text": [
      "{'red': 0, 'yellow': 0, 'green': 0, 'blue': 0}\n",
      "<class 'int'>\n"
     ]
    }
   ],
   "source": [
    "colordict = {}\n",
    "for i in colors:\n",
    "    colordict[i] = 0\n",
    "print(colordict)\n",
    "print(type(colordict['red']))"
   ]
  },
  {
   "cell_type": "code",
   "execution_count": 75,
   "metadata": {},
   "outputs": [
    {
     "name": "stdout",
     "output_type": "stream",
     "text": [
      "blue\n",
      "<class 'str'>\n",
      "green\n",
      "<class 'str'>\n",
      "yellow\n",
      "<class 'str'>\n",
      "yellow\n",
      "<class 'str'>\n"
     ]
    }
   ],
   "source": [
    "for i in categories:\n",
    "    current_color = csv.loc[csv['category'] == i]['color'].values[0]\n",
    "    print(current_color)\n",
    "    print(type(current_color))"
   ]
  },
  {
   "cell_type": "code",
   "execution_count": null,
   "metadata": {},
   "outputs": [],
   "source": []
  }
 ],
 "metadata": {
  "kernelspec": {
   "display_name": "Python 3",
   "language": "python",
   "name": "python3"
  },
  "language_info": {
   "codemirror_mode": {
    "name": "ipython",
    "version": 3
   },
   "file_extension": ".py",
   "mimetype": "text/x-python",
   "name": "python",
   "nbconvert_exporter": "python",
   "pygments_lexer": "ipython3",
   "version": "3.7.5"
  }
 },
 "nbformat": 4,
 "nbformat_minor": 2
}
