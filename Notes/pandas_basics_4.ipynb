{
 "cells": [
  {
   "cell_type": "code",
   "execution_count": 2,
   "metadata": {},
   "outputs": [],
   "source": [
    "import numpy as np\n",
    "import pandas as pd"
   ]
  },
  {
   "cell_type": "code",
   "execution_count": 9,
   "metadata": {},
   "outputs": [],
   "source": [
    "df = np.random.random_sample((10,5))"
   ]
  },
  {
   "cell_type": "code",
   "execution_count": 10,
   "metadata": {},
   "outputs": [
    {
     "name": "stdout",
     "output_type": "stream",
     "text": [
      "[[0.2429535  0.78550101 0.63348256 0.26791219 0.01339607]\n",
      " [0.30641019 0.26953104 0.77947949 0.32327818 0.76610856]\n",
      " [0.20745113 0.10666977 0.21188968 0.88319585 0.15562489]\n",
      " [0.40313907 0.25323301 0.81567522 0.00755388 0.59959121]\n",
      " [0.14069445 0.59103879 0.49198189 0.34973823 0.68095884]\n",
      " [0.96624139 0.72551199 0.42766203 0.68269376 0.05971822]\n",
      " [0.01534708 0.86904727 0.43177317 0.40307022 0.31522623]\n",
      " [0.62160916 0.82853894 0.43544577 0.03797694 0.07599976]\n",
      " [0.43567532 0.14036415 0.55765307 0.02597289 0.92499086]\n",
      " [0.12783386 0.32029066 0.21879541 0.1747591  0.69251751]]\n"
     ]
    }
   ],
   "source": [
    "print(df)"
   ]
  },
  {
   "cell_type": "code",
   "execution_count": 11,
   "metadata": {},
   "outputs": [],
   "source": [
    "df = pd.DataFrame(df)"
   ]
  },
  {
   "cell_type": "code",
   "execution_count": 13,
   "metadata": {},
   "outputs": [],
   "source": [
    "df.columns = [\"banana_density\",\"banana_mass\",\"apple_density\",\"apple_mass\",\"mango_mass\"]"
   ]
  },
  {
   "cell_type": "code",
   "execution_count": 14,
   "metadata": {},
   "outputs": [
    {
     "data": {
      "text/html": [
       "<div>\n",
       "<style scoped>\n",
       "    .dataframe tbody tr th:only-of-type {\n",
       "        vertical-align: middle;\n",
       "    }\n",
       "\n",
       "    .dataframe tbody tr th {\n",
       "        vertical-align: top;\n",
       "    }\n",
       "\n",
       "    .dataframe thead th {\n",
       "        text-align: right;\n",
       "    }\n",
       "</style>\n",
       "<table border=\"1\" class=\"dataframe\">\n",
       "  <thead>\n",
       "    <tr style=\"text-align: right;\">\n",
       "      <th></th>\n",
       "      <th>banana_density</th>\n",
       "      <th>banana_mass</th>\n",
       "      <th>apple_density</th>\n",
       "      <th>apple_mass</th>\n",
       "      <th>mango_mass</th>\n",
       "    </tr>\n",
       "  </thead>\n",
       "  <tbody>\n",
       "    <tr>\n",
       "      <th>0</th>\n",
       "      <td>0.242953</td>\n",
       "      <td>0.785501</td>\n",
       "      <td>0.633483</td>\n",
       "      <td>0.267912</td>\n",
       "      <td>0.013396</td>\n",
       "    </tr>\n",
       "    <tr>\n",
       "      <th>1</th>\n",
       "      <td>0.306410</td>\n",
       "      <td>0.269531</td>\n",
       "      <td>0.779479</td>\n",
       "      <td>0.323278</td>\n",
       "      <td>0.766109</td>\n",
       "    </tr>\n",
       "    <tr>\n",
       "      <th>2</th>\n",
       "      <td>0.207451</td>\n",
       "      <td>0.106670</td>\n",
       "      <td>0.211890</td>\n",
       "      <td>0.883196</td>\n",
       "      <td>0.155625</td>\n",
       "    </tr>\n",
       "    <tr>\n",
       "      <th>3</th>\n",
       "      <td>0.403139</td>\n",
       "      <td>0.253233</td>\n",
       "      <td>0.815675</td>\n",
       "      <td>0.007554</td>\n",
       "      <td>0.599591</td>\n",
       "    </tr>\n",
       "    <tr>\n",
       "      <th>4</th>\n",
       "      <td>0.140694</td>\n",
       "      <td>0.591039</td>\n",
       "      <td>0.491982</td>\n",
       "      <td>0.349738</td>\n",
       "      <td>0.680959</td>\n",
       "    </tr>\n",
       "    <tr>\n",
       "      <th>5</th>\n",
       "      <td>0.966241</td>\n",
       "      <td>0.725512</td>\n",
       "      <td>0.427662</td>\n",
       "      <td>0.682694</td>\n",
       "      <td>0.059718</td>\n",
       "    </tr>\n",
       "    <tr>\n",
       "      <th>6</th>\n",
       "      <td>0.015347</td>\n",
       "      <td>0.869047</td>\n",
       "      <td>0.431773</td>\n",
       "      <td>0.403070</td>\n",
       "      <td>0.315226</td>\n",
       "    </tr>\n",
       "    <tr>\n",
       "      <th>7</th>\n",
       "      <td>0.621609</td>\n",
       "      <td>0.828539</td>\n",
       "      <td>0.435446</td>\n",
       "      <td>0.037977</td>\n",
       "      <td>0.076000</td>\n",
       "    </tr>\n",
       "    <tr>\n",
       "      <th>8</th>\n",
       "      <td>0.435675</td>\n",
       "      <td>0.140364</td>\n",
       "      <td>0.557653</td>\n",
       "      <td>0.025973</td>\n",
       "      <td>0.924991</td>\n",
       "    </tr>\n",
       "    <tr>\n",
       "      <th>9</th>\n",
       "      <td>0.127834</td>\n",
       "      <td>0.320291</td>\n",
       "      <td>0.218795</td>\n",
       "      <td>0.174759</td>\n",
       "      <td>0.692518</td>\n",
       "    </tr>\n",
       "  </tbody>\n",
       "</table>\n",
       "</div>"
      ],
      "text/plain": [
       "   banana_density  banana_mass  apple_density  apple_mass  mango_mass\n",
       "0        0.242953     0.785501       0.633483    0.267912    0.013396\n",
       "1        0.306410     0.269531       0.779479    0.323278    0.766109\n",
       "2        0.207451     0.106670       0.211890    0.883196    0.155625\n",
       "3        0.403139     0.253233       0.815675    0.007554    0.599591\n",
       "4        0.140694     0.591039       0.491982    0.349738    0.680959\n",
       "5        0.966241     0.725512       0.427662    0.682694    0.059718\n",
       "6        0.015347     0.869047       0.431773    0.403070    0.315226\n",
       "7        0.621609     0.828539       0.435446    0.037977    0.076000\n",
       "8        0.435675     0.140364       0.557653    0.025973    0.924991\n",
       "9        0.127834     0.320291       0.218795    0.174759    0.692518"
      ]
     },
     "execution_count": 14,
     "metadata": {},
     "output_type": "execute_result"
    }
   ],
   "source": [
    "df"
   ]
  },
  {
   "cell_type": "code",
   "execution_count": 15,
   "metadata": {},
   "outputs": [],
   "source": [
    "new_col = {\"mango density\": np.random.random_sample((10,0))}"
   ]
  },
  {
   "cell_type": "code",
   "execution_count": 16,
   "metadata": {},
   "outputs": [
    {
     "name": "stdout",
     "output_type": "stream",
     "text": [
      "{'mango density': array([], shape=(10, 0), dtype=float64)}\n"
     ]
    }
   ],
   "source": [
    "print(new_col)"
   ]
  },
  {
   "cell_type": "code",
   "execution_count": 17,
   "metadata": {},
   "outputs": [
    {
     "data": {
      "text/html": [
       "<div>\n",
       "<style scoped>\n",
       "    .dataframe tbody tr th:only-of-type {\n",
       "        vertical-align: middle;\n",
       "    }\n",
       "\n",
       "    .dataframe tbody tr th {\n",
       "        vertical-align: top;\n",
       "    }\n",
       "\n",
       "    .dataframe thead th {\n",
       "        text-align: right;\n",
       "    }\n",
       "</style>\n",
       "<table border=\"1\" class=\"dataframe\">\n",
       "  <thead>\n",
       "    <tr style=\"text-align: right;\">\n",
       "      <th></th>\n",
       "      <th>banana_density</th>\n",
       "      <th>banana_mass</th>\n",
       "      <th>apple_density</th>\n",
       "      <th>apple_mass</th>\n",
       "    </tr>\n",
       "  </thead>\n",
       "  <tbody>\n",
       "    <tr>\n",
       "      <th>0</th>\n",
       "      <td>0.242953</td>\n",
       "      <td>0.785501</td>\n",
       "      <td>0.633483</td>\n",
       "      <td>0.267912</td>\n",
       "    </tr>\n",
       "    <tr>\n",
       "      <th>1</th>\n",
       "      <td>0.306410</td>\n",
       "      <td>0.269531</td>\n",
       "      <td>0.779479</td>\n",
       "      <td>0.323278</td>\n",
       "    </tr>\n",
       "    <tr>\n",
       "      <th>2</th>\n",
       "      <td>0.207451</td>\n",
       "      <td>0.106670</td>\n",
       "      <td>0.211890</td>\n",
       "      <td>0.883196</td>\n",
       "    </tr>\n",
       "    <tr>\n",
       "      <th>3</th>\n",
       "      <td>0.403139</td>\n",
       "      <td>0.253233</td>\n",
       "      <td>0.815675</td>\n",
       "      <td>0.007554</td>\n",
       "    </tr>\n",
       "    <tr>\n",
       "      <th>4</th>\n",
       "      <td>0.140694</td>\n",
       "      <td>0.591039</td>\n",
       "      <td>0.491982</td>\n",
       "      <td>0.349738</td>\n",
       "    </tr>\n",
       "    <tr>\n",
       "      <th>5</th>\n",
       "      <td>0.966241</td>\n",
       "      <td>0.725512</td>\n",
       "      <td>0.427662</td>\n",
       "      <td>0.682694</td>\n",
       "    </tr>\n",
       "    <tr>\n",
       "      <th>6</th>\n",
       "      <td>0.015347</td>\n",
       "      <td>0.869047</td>\n",
       "      <td>0.431773</td>\n",
       "      <td>0.403070</td>\n",
       "    </tr>\n",
       "    <tr>\n",
       "      <th>7</th>\n",
       "      <td>0.621609</td>\n",
       "      <td>0.828539</td>\n",
       "      <td>0.435446</td>\n",
       "      <td>0.037977</td>\n",
       "    </tr>\n",
       "    <tr>\n",
       "      <th>8</th>\n",
       "      <td>0.435675</td>\n",
       "      <td>0.140364</td>\n",
       "      <td>0.557653</td>\n",
       "      <td>0.025973</td>\n",
       "    </tr>\n",
       "    <tr>\n",
       "      <th>9</th>\n",
       "      <td>0.127834</td>\n",
       "      <td>0.320291</td>\n",
       "      <td>0.218795</td>\n",
       "      <td>0.174759</td>\n",
       "    </tr>\n",
       "  </tbody>\n",
       "</table>\n",
       "</div>"
      ],
      "text/plain": [
       "   banana_density  banana_mass  apple_density  apple_mass\n",
       "0        0.242953     0.785501       0.633483    0.267912\n",
       "1        0.306410     0.269531       0.779479    0.323278\n",
       "2        0.207451     0.106670       0.211890    0.883196\n",
       "3        0.403139     0.253233       0.815675    0.007554\n",
       "4        0.140694     0.591039       0.491982    0.349738\n",
       "5        0.966241     0.725512       0.427662    0.682694\n",
       "6        0.015347     0.869047       0.431773    0.403070\n",
       "7        0.621609     0.828539       0.435446    0.037977\n",
       "8        0.435675     0.140364       0.557653    0.025973\n",
       "9        0.127834     0.320291       0.218795    0.174759"
      ]
     },
     "execution_count": 17,
     "metadata": {},
     "output_type": "execute_result"
    }
   ],
   "source": [
    "df.drop(columns=\"mango_mass\")"
   ]
  },
  {
   "cell_type": "markdown",
   "metadata": {},
   "source": [
    "## Subsetting"
   ]
  },
  {
   "cell_type": "code",
   "execution_count": 20,
   "metadata": {},
   "outputs": [
    {
     "data": {
      "text/html": [
       "<div>\n",
       "<style scoped>\n",
       "    .dataframe tbody tr th:only-of-type {\n",
       "        vertical-align: middle;\n",
       "    }\n",
       "\n",
       "    .dataframe tbody tr th {\n",
       "        vertical-align: top;\n",
       "    }\n",
       "\n",
       "    .dataframe thead th {\n",
       "        text-align: right;\n",
       "    }\n",
       "</style>\n",
       "<table border=\"1\" class=\"dataframe\">\n",
       "  <thead>\n",
       "    <tr style=\"text-align: right;\">\n",
       "      <th></th>\n",
       "      <th>banana_density</th>\n",
       "    </tr>\n",
       "  </thead>\n",
       "  <tbody>\n",
       "    <tr>\n",
       "      <th>0</th>\n",
       "      <td>0.242953</td>\n",
       "    </tr>\n",
       "    <tr>\n",
       "      <th>1</th>\n",
       "      <td>0.306410</td>\n",
       "    </tr>\n",
       "    <tr>\n",
       "      <th>2</th>\n",
       "      <td>0.207451</td>\n",
       "    </tr>\n",
       "    <tr>\n",
       "      <th>3</th>\n",
       "      <td>0.403139</td>\n",
       "    </tr>\n",
       "    <tr>\n",
       "      <th>4</th>\n",
       "      <td>0.140694</td>\n",
       "    </tr>\n",
       "    <tr>\n",
       "      <th>5</th>\n",
       "      <td>0.966241</td>\n",
       "    </tr>\n",
       "    <tr>\n",
       "      <th>6</th>\n",
       "      <td>0.015347</td>\n",
       "    </tr>\n",
       "    <tr>\n",
       "      <th>7</th>\n",
       "      <td>0.621609</td>\n",
       "    </tr>\n",
       "    <tr>\n",
       "      <th>8</th>\n",
       "      <td>0.435675</td>\n",
       "    </tr>\n",
       "    <tr>\n",
       "      <th>9</th>\n",
       "      <td>0.127834</td>\n",
       "    </tr>\n",
       "  </tbody>\n",
       "</table>\n",
       "</div>"
      ],
      "text/plain": [
       "   banana_density\n",
       "0        0.242953\n",
       "1        0.306410\n",
       "2        0.207451\n",
       "3        0.403139\n",
       "4        0.140694\n",
       "5        0.966241\n",
       "6        0.015347\n",
       "7        0.621609\n",
       "8        0.435675\n",
       "9        0.127834"
      ]
     },
     "execution_count": 20,
     "metadata": {},
     "output_type": "execute_result"
    }
   ],
   "source": [
    "df.loc[df[\"banana_density\"].lt(.5) | df[\"apple_density\"].lt(.5), [\"banana_density\", \"apple_density\"]]"
   ]
  },
  {
   "cell_type": "code",
   "execution_count": 22,
   "metadata": {},
   "outputs": [
    {
     "data": {
      "text/html": [
       "<div>\n",
       "<style scoped>\n",
       "    .dataframe tbody tr th:only-of-type {\n",
       "        vertical-align: middle;\n",
       "    }\n",
       "\n",
       "    .dataframe tbody tr th {\n",
       "        vertical-align: top;\n",
       "    }\n",
       "\n",
       "    .dataframe thead th {\n",
       "        text-align: right;\n",
       "    }\n",
       "</style>\n",
       "<table border=\"1\" class=\"dataframe\">\n",
       "  <thead>\n",
       "    <tr style=\"text-align: right;\">\n",
       "      <th></th>\n",
       "      <th>banana_density</th>\n",
       "      <th>apple_density</th>\n",
       "    </tr>\n",
       "  </thead>\n",
       "  <tbody>\n",
       "    <tr>\n",
       "      <th>2</th>\n",
       "      <td>0.207451</td>\n",
       "      <td>0.211890</td>\n",
       "    </tr>\n",
       "    <tr>\n",
       "      <th>4</th>\n",
       "      <td>0.140694</td>\n",
       "      <td>0.491982</td>\n",
       "    </tr>\n",
       "    <tr>\n",
       "      <th>6</th>\n",
       "      <td>0.015347</td>\n",
       "      <td>0.431773</td>\n",
       "    </tr>\n",
       "    <tr>\n",
       "      <th>9</th>\n",
       "      <td>0.127834</td>\n",
       "      <td>0.218795</td>\n",
       "    </tr>\n",
       "  </tbody>\n",
       "</table>\n",
       "</div>"
      ],
      "text/plain": [
       "   banana_density  apple_density\n",
       "2        0.207451       0.211890\n",
       "4        0.140694       0.491982\n",
       "6        0.015347       0.431773\n",
       "9        0.127834       0.218795"
      ]
     },
     "execution_count": 22,
     "metadata": {},
     "output_type": "execute_result"
    }
   ],
   "source": [
    "df.loc[df[\"banana_density\"].lt(.5) & df[\"apple_density\"].lt(.5), [\"banana_density\", \"apple_density\"]]"
   ]
  },
  {
   "cell_type": "code",
   "execution_count": 25,
   "metadata": {},
   "outputs": [
    {
     "data": {
      "text/plain": [
       "banana_density    0.015347\n",
       "apple_density     0.431773\n",
       "Name: 6, dtype: float64"
      ]
     },
     "execution_count": 25,
     "metadata": {},
     "output_type": "execute_result"
    }
   ],
   "source": [
    "df.iloc[6,[0,2]]"
   ]
  },
  {
   "cell_type": "code",
   "execution_count": 33,
   "metadata": {},
   "outputs": [
    {
     "data": {
      "text/html": [
       "<div>\n",
       "<style scoped>\n",
       "    .dataframe tbody tr th:only-of-type {\n",
       "        vertical-align: middle;\n",
       "    }\n",
       "\n",
       "    .dataframe tbody tr th {\n",
       "        vertical-align: top;\n",
       "    }\n",
       "\n",
       "    .dataframe thead th {\n",
       "        text-align: right;\n",
       "    }\n",
       "</style>\n",
       "<table border=\"1\" class=\"dataframe\">\n",
       "  <thead>\n",
       "    <tr style=\"text-align: right;\">\n",
       "      <th></th>\n",
       "      <th>banana_density</th>\n",
       "      <th>apple_density</th>\n",
       "    </tr>\n",
       "  </thead>\n",
       "  <tbody>\n",
       "    <tr>\n",
       "      <th>6</th>\n",
       "      <td>0.015347</td>\n",
       "      <td>0.431773</td>\n",
       "    </tr>\n",
       "  </tbody>\n",
       "</table>\n",
       "</div>"
      ],
      "text/plain": [
       "   banana_density  apple_density\n",
       "6        0.015347       0.431773"
      ]
     },
     "execution_count": 33,
     "metadata": {},
     "output_type": "execute_result"
    }
   ],
   "source": [
    "(df.iloc[6,[0,2]]\n",
    ".to_frame()\n",
    ".transpose())"
   ]
  }
 ],
 "metadata": {
  "kernelspec": {
   "display_name": "Python 3",
   "language": "python",
   "name": "python3"
  },
  "language_info": {
   "codemirror_mode": {
    "name": "ipython",
    "version": 3
   },
   "file_extension": ".py",
   "mimetype": "text/x-python",
   "name": "python",
   "nbconvert_exporter": "python",
   "pygments_lexer": "ipython3",
   "version": "3.7.5"
  }
 },
 "nbformat": 4,
 "nbformat_minor": 2
}
